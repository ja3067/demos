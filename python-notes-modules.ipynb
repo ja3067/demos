{
 "cells": [
  {
   "cell_type": "markdown",
   "metadata": {},
   "source": [
    "# Python Notebook Part II\n",
    "\n",
    "Various programs and notes for future reference, many from the Google machine learning course"
   ]
  },
  {
   "cell_type": "markdown",
   "metadata": {},
   "source": [
    "## OS\n",
    "\n",
    "The OS module is an extremely powerful module for manipulating the local file structure. The module can read and write files, manipulate paths, and change the current working directory."
   ]
  },
  {
   "cell_type": "markdown",
   "metadata": {},
   "source": [
    "### Python IO\n",
    "\n",
    "IO in Python is partially built-in, and so the basic commands for reading and writing are not technically part of the OS module. Nevertheless, they are included here. For basic reading and writing, the following syntax is used."
   ]
  },
  {
   "cell_type": "code",
   "execution_count": 10,
   "metadata": {
    "collapsed": false
   },
   "outputs": [],
   "source": [
    "with open('filename.txt', 'w') as f:\n",
    "    f.write('Hello World!')\n",
    "    \n",
    "with open('filename.txt', 'r') as f:\n",
    "    file = f.read() # read the entire file\n",
    "    line1 = f.readline() # read line by line (this reads the first line)\n",
    "    line2 = f.readline() # this reads the second line\n",
    "    f.seek(5) # seeks the 5th line of the file"
   ]
  },
  {
   "cell_type": "markdown",
   "metadata": {},
   "source": [
    "### Path Manipulation\n",
    "\n",
    "The OS module can be used to manipulate path names in a platform independent way, without worrying about what characters are used to delimite the path."
   ]
  },
  {
   "cell_type": "code",
   "execution_count": 16,
   "metadata": {
    "collapsed": false,
    "scrolled": true
   },
   "outputs": [
    {
     "name": "stdout",
     "output_type": "stream",
     "text": [
      "/Users/JAustin/Desktop/\n",
      "('/Users/JAustin/Desktop', 'new_directory')\n"
     ]
    }
   ],
   "source": [
    "import os\n",
    "\n",
    "base_path = '/Users/JAustin/Desktop' # this is bad, fix this later\n",
    "\n",
    "new_path = os.path.join(base_path, 'new_directory') # combine two paths\n",
    "\n",
    "dir_name = os.path.basename(os.path.normpath(new_path)) # get last part of new_path\n",
    "\n",
    "messy_path = '/Users/JAustin/Desktop/\\n\\n\\n  \\n\\n  \\n'\n",
    "clean_path = messy_path.rstrip()\n",
    "print(clean_path)\n",
    "\n",
    "path_list = os.path.split(os.path.normpath(new_path)) # fix this later, \n",
    "print(path_list)"
   ]
  },
  {
   "cell_type": "markdown",
   "metadata": {},
   "source": [
    "## Unit Test"
   ]
  },
  {
   "cell_type": "markdown",
   "metadata": {},
   "source": [
    "The unittest module is a testing module in the Python standard library. Instead of being forced to test each program manually in an interpreter, or to write an elaborate try/except testing suite, unittest will automatically run the tests you implement separately and record the results for each. [Reference](https://www.youtube.com/watch?v=FxSsnHeWQBY)."
   ]
  },
  {
   "cell_type": "code",
   "execution_count": 3,
   "metadata": {
    "collapsed": true
   },
   "outputs": [],
   "source": [
    "# portfolio.py\n",
    "\n",
    "class Portfolio: # an example class that needs to be tested\n",
    "    def __init__(self):\n",
    "        self.stocks = []\n",
    "        \n",
    "    def buy(self, name, shares, price):\n",
    "        self.stocks.append([name, shares, price])\n",
    "        \n",
    "    def cost(self):\n",
    "        amt = 0.0\n",
    "        for name, shares, price in self.stocks:\n",
    "            amt += shares*price\n",
    "        return amt"
   ]
  },
  {
   "cell_type": "code",
   "execution_count": 4,
   "metadata": {
    "collapsed": true
   },
   "outputs": [],
   "source": [
    "#portfolio_test.py\n",
    "\n",
    "import unittest\n",
    "# import portfolio\n",
    "\n",
    "class PortfolioTest(unittest.TestCase): # a unittest\n",
    "    def test_buy_one_stock(self):\n",
    "        p = Portfolio()\n",
    "        p.buy([\"IBM\", 100, 168.72])\n",
    "        #assert p.cost() == 16872.0\n",
    "        self.assertEqual(p.cost(), 16872.0) # this is a unittest method inherited from unittest.TestCase which performs a more verbose assert"
   ]
  },
  {
   "cell_type": "markdown",
   "metadata": {},
   "source": [
    "We then run the test from the command line using: `$ python -m unittest portfolio_test.py`. The -m tag runs the program in the unittest module. Here we choose to use assertEqual, inherited from unittest.TestCase, but unittest defines many more such assertion methods, described in the documentation. In addition, we can create our own TestCase class which adds new methods."
   ]
  },
  {
   "cell_type": "code",
   "execution_count": 5,
   "metadata": {
    "collapsed": true
   },
   "outputs": [],
   "source": [
    "class PortfolioTestCase(unittest.TestCase):\n",
    "    def assertCostEqual(self, p, cost):\n",
    "        self.assertEqual(p.cost(), cost)"
   ]
  },
  {
   "cell_type": "markdown",
   "metadata": {},
   "source": [
    "Then our unittests look like this:"
   ]
  },
  {
   "cell_type": "code",
   "execution_count": 6,
   "metadata": {
    "collapsed": true
   },
   "outputs": [],
   "source": [
    "class PortfolioTest(PortfolioTestCase):\n",
    "    def test_buy_one_stock(self):\n",
    "        p = Portfolio()\n",
    "        p.buy([\"IBM\", 100, 168.72])\n",
    "        self.assertCostEqual(p, 16872.0)"
   ]
  },
  {
   "cell_type": "markdown",
   "metadata": {},
   "source": [
    "To test for expected errors, we can use the assertRaises() method, like this:"
   ]
  },
  {
   "cell_type": "code",
   "execution_count": 7,
   "metadata": {
    "collapsed": true
   },
   "outputs": [],
   "source": [
    "def test_bad_input(self):\n",
    "    p = Portfolio()\n",
    "    with self.assertRaise(TypeError):\n",
    "        p.buy(\"IBM\")"
   ]
  },
  {
   "cell_type": "markdown",
   "metadata": {},
   "source": [
    "## Argparse"
   ]
  },
  {
   "cell_type": "markdown",
   "metadata": {},
   "source": [
    "The argparse module allows Python programs to take Unix-style command line arguments."
   ]
  },
  {
   "cell_type": "code",
   "execution_count": null,
   "metadata": {
    "collapsed": false
   },
   "outputs": [],
   "source": [
    "import argparse\n",
    "\n",
    "parser = argparse.ArgumentParser(description=\"...\") # create parser object\n",
    "\n",
    "# add an optional command line arguments -i, stored in the parser namespace as path, which invokes an action\n",
    "# when called, and uses a custom type check function. \n",
    "\n",
    "parser.add_argument(\"-i\", dest=\"path\", required=False, help=\"path to database directory\",\n",
    "                    metavar=\"PATH\", action=FullPaths, type=is_valid_path, default='.')\n",
    "\n",
    "args = parser.parse_args() # read all arguments\n",
    "\n",
    "os.chdir(args.path) # extract path argument from namespace, reading default if nothing has been specified."
   ]
  },
  {
   "cell_type": "markdown",
   "metadata": {},
   "source": [
    "This is a simple example, which takes a single argument of the form '-i ../file_name', and changes to that directory when the program begins running. The action and type handlers are defined below. "
   ]
  },
  {
   "cell_type": "code",
   "execution_count": null,
   "metadata": {
    "collapsed": true
   },
   "outputs": [],
   "source": [
    "import os\n",
    "from glob import glob\n",
    "\n",
    "def is_valid_path(arg):\n",
    "    if not os.path.exists(arg):\n",
    "        parser.error(\"The directory %s does not exist!\" % arg)\n",
    "    else:\n",
    "        return arg\n",
    "\n",
    "class FullPaths(argparse.Action):\n",
    "    \"\"\"Expand user- and relative-paths\"\"\"\n",
    "    def __call__(self, parser, namespace, values, option_string=None):\n",
    "        setattr(namespace, self.dest, os.path.abspath(os.path.expanduser(values)))\n",
    "\n",
    "def is_valid_type(arg):\n",
    "    if not arg in ['.jpg', '.png']:\n",
    "        parser.error(\"%s is not a valid extention!\" % arg)\n",
    "    else:\n",
    "        return arg"
   ]
  },
  {
   "cell_type": "markdown",
   "metadata": {},
   "source": [
    "The \"is_valid_path\" function is called on the given argument to ensure that it is in fact a valid path. The FullPaths argument inherits from the argparse.Action class, and overwrites the \\__call\\__ method to add the absolute path instead of the relative path on the user's system. The full documentation is found [here](https://docs.python.org/2/library/argparse.html)."
   ]
  },
  {
   "cell_type": "markdown",
   "metadata": {},
   "source": [
    "## Glob"
   ]
  },
  {
   "cell_type": "markdown",
   "metadata": {},
   "source": [
    "The glob module enables Unix-style pattern search in Python. It takes a filename pattern and returns a list of all files in the file system that satisfy that pattern."
   ]
  },
  {
   "cell_type": "code",
   "execution_count": 1,
   "metadata": {
    "collapsed": false
   },
   "outputs": [
    {
     "name": "stdout",
     "output_type": "stream",
     "text": [
      "['Full DCGAN Notebook.ipynb', 'Labeled MNIST GAN-Copy1.ipynb', 'Labeled MNIST GAN.ipynb', 'MNIST DCGAN.ipynb', 'OpenImages.ipynb', 'Simple MNIST Model (keras).ipynb']\n"
     ]
    }
   ],
   "source": [
    "from glob import glob\n",
    "import os\n",
    "\n",
    "os.chdir('/Users/JAustin/Desktop')\n",
    "\n",
    "pattern = '*.ipynb'\n",
    "\n",
    "files = glob(pattern)\n",
    "\n",
    "print(files)"
   ]
  },
  {
   "cell_type": "markdown",
   "metadata": {},
   "source": [
    "## Numpy"
   ]
  },
  {
   "cell_type": "markdown",
   "metadata": {},
   "source": [
    "### Array Size\n",
    "\n",
    "All Numpy arrays store several size attributes, include size, shape, and nbytes. Size returns the total number of elements in the array, shape returns the actual array shape, and nbytes returns the size of the array in bytes."
   ]
  },
  {
   "cell_type": "code",
   "execution_count": 8,
   "metadata": {
    "collapsed": false
   },
   "outputs": [
    {
     "name": "stdout",
     "output_type": "stream",
     "text": [
      "[[1 2 3]\n",
      " [4 5 6]\n",
      " [7 8 9]] \n",
      "\n",
      "Size: 9\n",
      "Shape: (3, 3)\n",
      "Bytes: 72\n"
     ]
    }
   ],
   "source": [
    "import numpy as np\n",
    "\n",
    "A = np.array([[1, 2, 3], [4, 5, 6], [7, 8, 9]]); print(A, '\\n')\n",
    "\n",
    "print(\"Size:\", A.size)\n",
    "print(\"Shape:\", A.shape)\n",
    "print(\"Bytes:\", A.nbytes) # elements are stored as 8-byte integers, so 9*8 = 72 bytes"
   ]
  },
  {
   "cell_type": "markdown",
   "metadata": {},
   "source": [
    "### New Line\n",
    "\n",
    "Many complicated matrix operations can be achieved without iteration using the np.new_line() command, which converts an object of shape (n,) to (n, 1)."
   ]
  },
  {
   "cell_type": "code",
   "execution_count": 33,
   "metadata": {
    "collapsed": false,
    "scrolled": false
   },
   "outputs": [
    {
     "name": "stdout",
     "output_type": "stream",
     "text": [
      "(3,)\n",
      "(3, 1)\n"
     ]
    }
   ],
   "source": [
    "import numpy as np\n",
    "\n",
    "A = np.array([1, 2, 3])\n",
    "print(np.shape(A))\n",
    "\n",
    "new_axis = A[:,None] # this is an alias for np.newaxis, which creates a new axis of length 1 using existing data.\n",
    "print(np.shape(new_axis))"
   ]
  },
  {
   "cell_type": "markdown",
   "metadata": {},
   "source": [
    "### Extending Matrix to New Axis"
   ]
  },
  {
   "cell_type": "markdown",
   "metadata": {},
   "source": [
    "A 2-dimensional array can be converted to a 3-dimensional array of arbitrary size using the np.repeat() command, which repeats the 2-dimensional array over some number of new entries in the the third dimension."
   ]
  },
  {
   "cell_type": "code",
   "execution_count": 5,
   "metadata": {
    "collapsed": false
   },
   "outputs": [
    {
     "name": "stdout",
     "output_type": "stream",
     "text": [
      "[[1 2 3]\n",
      " [4 5 6]\n",
      " [7 8 9]] \n",
      "\n",
      "[[1 2 3]\n",
      " [4 5 6]\n",
      " [7 8 9]]\n"
     ]
    }
   ],
   "source": [
    "import numpy as np\n",
    "\n",
    "A = np.array([[1, 2, 3],[4, 5, 6],[7, 8, 9]])\n",
    "\n",
    "print(A, '\\n')\n",
    "\n",
    "B = np.repeat(A[:, :, None], 3, axis=2)\n",
    "\n",
    "print(B[:, :, 2])"
   ]
  },
  {
   "cell_type": "markdown",
   "metadata": {},
   "source": [
    "If I want the resulting matrix indexed by the first axis, I can transpose the matrix."
   ]
  },
  {
   "cell_type": "code",
   "execution_count": 8,
   "metadata": {
    "collapsed": false,
    "scrolled": true
   },
   "outputs": [
    {
     "name": "stdout",
     "output_type": "stream",
     "text": [
      "[[1 2 3]\n",
      " [4 5 6]\n",
      " [7 8 9]]\n"
     ]
    }
   ],
   "source": [
    "C = B.transpose(2, 0, 1)\n",
    "\n",
    "print(C[2])"
   ]
  },
  {
   "cell_type": "markdown",
   "metadata": {},
   "source": [
    "### Pairwise difference and norm\n",
    "\n",
    "Finding the distance between two sets of vectors can be very expensive using a for loop, but the Numpy implementation using broadcasting is much more efficient."
   ]
  },
  {
   "cell_type": "code",
   "execution_count": 16,
   "metadata": {
    "collapsed": false,
    "scrolled": true
   },
   "outputs": [
    {
     "name": "stdout",
     "output_type": "stream",
     "text": [
      "(1000, 400, 75)\n",
      "(1000, 400)\n"
     ]
    }
   ],
   "source": [
    "import numpy as np\n",
    "\n",
    "x = np.random.rand(1000, 75)\n",
    "y = np.random.rand(400, 75)\n",
    "\n",
    "diff = x.reshape(1000, 1, 75) - y\n",
    "\n",
    "print(diff.shape) # pairwise difference\n",
    "\n",
    "norm = (diff ** 2).sum(2)\n",
    "\n",
    "print(norm.shape) # norm (squared) for all pairs of vectors."
   ]
  },
  {
   "cell_type": "markdown",
   "metadata": {},
   "source": [
    "### One Hot Encoding"
   ]
  },
  {
   "cell_type": "markdown",
   "metadata": {},
   "source": [
    "We often want to convert lists of integers to one-hot encoded values with all-zero entries except at the index corresponding to those integers i.e. array of integers of length n to array of shape (n, m) where m is the number of classes."
   ]
  },
  {
   "cell_type": "code",
   "execution_count": 4,
   "metadata": {
    "collapsed": false,
    "scrolled": true
   },
   "outputs": [
    {
     "name": "stdout",
     "output_type": "stream",
     "text": [
      "[1 6 3 7 2 5 3 8 4 2] \n",
      "\n",
      " [[ 0.  1.  0.  0.  0.  0.  0.  0.  0.  0.]\n",
      " [ 0.  0.  0.  0.  0.  0.  1.  0.  0.  0.]\n",
      " [ 0.  0.  0.  1.  0.  0.  0.  0.  0.  0.]\n",
      " [ 0.  0.  0.  0.  0.  0.  0.  1.  0.  0.]\n",
      " [ 0.  0.  1.  0.  0.  0.  0.  0.  0.  0.]\n",
      " [ 0.  0.  0.  0.  0.  1.  0.  0.  0.  0.]\n",
      " [ 0.  0.  0.  1.  0.  0.  0.  0.  0.  0.]\n",
      " [ 0.  0.  0.  0.  0.  0.  0.  0.  1.  0.]\n",
      " [ 0.  0.  0.  0.  1.  0.  0.  0.  0.  0.]\n",
      " [ 0.  0.  1.  0.  0.  0.  0.  0.  0.  0.]]\n"
     ]
    }
   ],
   "source": [
    "import numpy as np\n",
    "\n",
    "num_labels = 10\n",
    "labels = np.array([1, 6, 3, 7, 2, 5, 3, 8, 4, 2])\n",
    "\n",
    "def encode(labels, num_labels):\n",
    "    return (np.arange(num_labels) == labels[:,None]).astype(np.float32)\n",
    "\n",
    "new_labels = encode(labels, num_labels)\n",
    "\n",
    "print(labels, '\\n\\n', new_labels)"
   ]
  },
  {
   "cell_type": "markdown",
   "metadata": {},
   "source": [
    "### Reshape"
   ]
  },
  {
   "cell_type": "markdown",
   "metadata": {},
   "source": [
    "The reshape command is a core numpy method that changes the shape of an array. An index of -1 can be used in one axis to infer its size from the other reshape values so as to leave the total size unchanged."
   ]
  },
  {
   "cell_type": "code",
   "execution_count": 36,
   "metadata": {
    "collapsed": false
   },
   "outputs": [
    {
     "name": "stdout",
     "output_type": "stream",
     "text": [
      "[[1 2]\n",
      " [3 4]\n",
      " [5 6]]\n"
     ]
    }
   ],
   "source": [
    "A = np.array([[1,2,3], [4,5,6]])\n",
    "new_arr = A.reshape((3,-1)) # -1 infers value from other indices, in this case 2.\n",
    "print(new_arr)"
   ]
  },
  {
   "cell_type": "markdown",
   "metadata": {},
   "source": [
    "## Timing\n",
    "\n",
    "The timing module, timeit, can be used to measure code execution time. The basic command is timeit.repeat, which executes a certain code segment a certain number of times, and reports execution time. "
   ]
  },
  {
   "cell_type": "code",
   "execution_count": null,
   "metadata": {
    "collapsed": false
   },
   "outputs": [],
   "source": [
    "import timeit\n",
    "\n",
    "if __name__ == '__main__':\n",
    "    print(min(timeit.repeat(\"insert_code_here\", setup=\"from __main__ import method_names_here\", number=1000, repeat=1000)))"
   ]
  },
  {
   "cell_type": "markdown",
   "metadata": {},
   "source": [
    "## H5PY and Pillow\n",
    "\n",
    "The .h5 and .pillow formats are convenient file formats for storing structured data in a Unix-like file structure. An .h5 file is like a directory, and contains subdirectories, called groups, which themselves contain datasets, which are numpy-like arrays."
   ]
  },
  {
   "cell_type": "markdown",
   "metadata": {},
   "source": [
    "To create a new h5 file, and add datasets, do the following:"
   ]
  },
  {
   "cell_type": "code",
   "execution_count": 33,
   "metadata": {
    "collapsed": false
   },
   "outputs": [
    {
     "name": "stdout",
     "output_type": "stream",
     "text": [
      "(100,)\n"
     ]
    }
   ],
   "source": [
    "import h5py\n",
    "\n",
    "#f.close()\n",
    "\n",
    "f = h5py.File('example.h5', 'w')\n",
    "\n",
    "f.create_dataset('dataset', (100,), dtype='i')\n",
    "\n",
    "dataset = f['dataset']\n",
    "\n",
    "print(dataset.shape)\n",
    "\n",
    "f.close()"
   ]
  },
  {
   "cell_type": "markdown",
   "metadata": {},
   "source": [
    "To open an existing h5 file and read its contents, do the following:"
   ]
  },
  {
   "cell_type": "code",
   "execution_count": 34,
   "metadata": {
    "collapsed": false
   },
   "outputs": [
    {
     "name": "stdout",
     "output_type": "stream",
     "text": [
      "['dataset']\n",
      "(100,) 100 [0 0 0 0 0 0 0 0 0 0]\n"
     ]
    }
   ],
   "source": [
    "import h5py\n",
    "\n",
    "f = h5py.File('example.h5', 'r')\n",
    "\n",
    "print(list(f.keys())) # f.keys() returns a module specific object, which in Python3 must be converted explicitly to a list\n",
    "\n",
    "dataset = f['dataset']\n",
    "\n",
    "print(dataset.shape, dataset.size, dataset[0:10]) # dataset has NumPy like properties\n",
    "\n",
    "f.close()"
   ]
  },
  {
   "cell_type": "markdown",
   "metadata": {},
   "source": [
    "This dataset can be converted to a numpy array using np.asarray, and manipulated there."
   ]
  },
  {
   "cell_type": "markdown",
   "metadata": {},
   "source": [
    ".h5 files have a directory like structure, and use groups in the place of directories. For example:"
   ]
  },
  {
   "cell_type": "code",
   "execution_count": 35,
   "metadata": {
    "collapsed": false
   },
   "outputs": [
    {
     "name": "stdout",
     "output_type": "stream",
     "text": [
      "/dataset\n",
      "/group\n",
      "/group/dataset_two\n"
     ]
    }
   ],
   "source": [
    "import h5py\n",
    "\n",
    "f = h5py.File('example.h5', 'a')\n",
    "\n",
    "dataset = f['dataset']\n",
    "\n",
    "print(dataset.name)\n",
    "\n",
    "grp = f.create_group('group')\n",
    "\n",
    "print(grp.name)\n",
    "\n",
    "dset2 = grp.create_dataset('dataset_two', (10,), dtype='i') # dataset located at root/group/dataset_two\n",
    "\n",
    "print(dset2.name)\n",
    "\n",
    "dset3 = f.create_dataset('subgroup2/dataset_three', (10,), dtype='i') # don't need to specify all intermediate paths.\n",
    "\n",
    "f.close()"
   ]
  },
  {
   "cell_type": "markdown",
   "metadata": {},
   "source": [
    "## Functools\n",
    "\n",
    "Functools is a module that provides decorators and other functions for managing function execution."
   ]
  },
  {
   "cell_type": "markdown",
   "metadata": {},
   "source": [
    "### Functools.partial\n",
    "\n",
    "functools.partial is a command that converts a function of several arguments into a function of fewer arguments by providing a default value."
   ]
  },
  {
   "cell_type": "code",
   "execution_count": 6,
   "metadata": {
    "collapsed": false
   },
   "outputs": [
    {
     "data": {
      "text/plain": [
       "7"
      ]
     },
     "execution_count": 6,
     "metadata": {},
     "output_type": "execute_result"
    }
   ],
   "source": [
    "import functools\n",
    "\n",
    "def add(x, y):\n",
    "    return x + y\n",
    "\n",
    "add3 = functools.partial(add, 3)\n",
    "\n",
    "add3(4)"
   ]
  },
  {
   "cell_type": "markdown",
   "metadata": {},
   "source": [
    "### Functools.lru_cache\n",
    "\n",
    "The functools lru_cache caches function calls in memory, which can be useful is a particular function is likely to be called many times with the sample arguments. For example, it can vastly improve the efficiency of a Fibonacci generator."
   ]
  },
  {
   "cell_type": "code",
   "execution_count": 1,
   "metadata": {
    "collapsed": false
   },
   "outputs": [
    {
     "data": {
      "text/plain": [
       "55"
      ]
     },
     "execution_count": 1,
     "metadata": {},
     "output_type": "execute_result"
    }
   ],
   "source": [
    "from functools import lru_cache\n",
    "\n",
    "@lru_cache(maxsize=None) #lru_cache caches the output of each fib(n) call, so they aren't repeated\n",
    "def fib(n):\n",
    "    if n < 2:\n",
    "        return n\n",
    "    return fib(n-1) + fib(n-2)\n",
    "\n",
    "fib(10)"
   ]
  },
  {
   "cell_type": "markdown",
   "metadata": {},
   "source": [
    "## Parsing JSON"
   ]
  },
  {
   "cell_type": "code",
   "execution_count": 3,
   "metadata": {
    "collapsed": false
   },
   "outputs": [
    {
     "name": "stdout",
     "output_type": "stream",
     "text": [
      "2\n"
     ]
    }
   ],
   "source": [
    "import json\n",
    "j = json.loads('{\"one\" : \"1\", \"two\" : \"2\", \"three\" : \"3\"}')\n",
    "print(j['two'])"
   ]
  },
  {
   "cell_type": "markdown",
   "metadata": {},
   "source": [
    "## Other"
   ]
  },
  {
   "cell_type": "markdown",
   "metadata": {},
   "source": [
    "### Simultaneous Assignment"
   ]
  },
  {
   "cell_type": "code",
   "execution_count": 44,
   "metadata": {
    "collapsed": false,
    "scrolled": false
   },
   "outputs": [
    {
     "name": "stdout",
     "output_type": "stream",
     "text": [
      "0\n",
      "1\n",
      "1\n",
      "2\n",
      "3\n",
      "5\n",
      "8\n",
      "13\n",
      "21\n",
      "34\n"
     ]
    }
   ],
   "source": [
    "def fibonacci(n): # neat expression with simultaneous variable assignment/unpacking\n",
    "    x, y = 0, 1\n",
    "    for i in range(n):\n",
    "        print(x)\n",
    "        x, y = y, x + y\n",
    "        \n",
    "fibonacci(10)"
   ]
  },
  {
   "cell_type": "markdown",
   "metadata": {},
   "source": [
    "## Names and Variables\n",
    "\n",
    "Variables in Python are labels, which point to objects in memory. The Python interpreter keeps track of the number of labels assigned to an object, a method called reference counting, and when no more labels point to an object, it is destroyed. Assignment never copies data, it just makes new labels point to objects in memory."
   ]
  },
  {
   "cell_type": "code",
   "execution_count": 5,
   "metadata": {
    "collapsed": false,
    "scrolled": true
   },
   "outputs": [
    {
     "name": "stdout",
     "output_type": "stream",
     "text": [
      "x: 4 y: 3\n",
      "x: [1, 2, 3, 4] y: [1, 2, 3, 4]\n"
     ]
    }
   ],
   "source": [
    "x = 3 # creates an integer object holding the value three, and then points the label x at it\n",
    "y = x # points the label y at the object pointed to by x. Both now point to the same 3 object equally.\n",
    "x = 4 # creates a new integer object, and reassigns x to that object. y still points to the 3.\n",
    "print(\"x:\", x, \"y:\", y)\n",
    "\n",
    "x = [1, 2, 3] # creates a list object\n",
    "y = x # y now points to the same list\n",
    "y.append(4) # adds a 4 to the end of the list. There is only one list, which y and x both point to. Append doesn't create a new list.\n",
    "print(\"x:\", x, \"y:\", y)"
   ]
  },
  {
   "cell_type": "markdown",
   "metadata": {},
   "source": [
    "**Mutability:** ints, floats, strings, and tuples are immutable types in Python. There are no methods which allow you to change their values. Instead, any operation which tries to change their values will create a new object."
   ]
  },
  {
   "cell_type": "code",
   "execution_count": null,
   "metadata": {
    "collapsed": false,
    "scrolled": true
   },
   "outputs": [],
   "source": [
    "x = \"Hello \" # creates string object and assigns label x/\n",
    "y = x # y and x now point to the same object\n",
    "x = x + \"World!\" # this addition operation creates a new value, because strings are immutable. \n",
    "# x now points to that new object\n",
    "\n",
    "print(\"x:\", x, \"y:\", y)\n",
    "\n",
    "x = \"Hello!\"\n",
    "y = x\n",
    "x[0] = 'h' # this throws an error, because strings are immutable"
   ]
  },
  {
   "cell_type": "markdown",
   "metadata": {},
   "source": [
    "Strings in particular are immutable because they are often used as dictionary keys, and allowing them to be mutated would cause headaches with hash keys. This example from [Stack Overflow](https://stackoverflow.com/questions/8680080/why-are-python-strings-immutable-best-practices-for-using-them) is useful."
   ]
  },
  {
   "cell_type": "code",
   "execution_count": null,
   "metadata": {
    "collapsed": false
   },
   "outputs": [],
   "source": [
    "class Foo(object):\n",
    "    def __init__(self, name):\n",
    "        self.name = name\n",
    "\n",
    "name = \"Hello\"\n",
    "foo = Foo(name)\n",
    "name[0] = \"J\" # if strings were not immutable, this would change the class name, which would be problematic."
   ]
  },
  {
   "cell_type": "markdown",
   "metadata": {},
   "source": [
    "When we call a function or instantiate a class with arguments, it behaves the same way."
   ]
  },
  {
   "cell_type": "code",
   "execution_count": 13,
   "metadata": {
    "collapsed": false
   },
   "outputs": [
    {
     "name": "stdout",
     "output_type": "stream",
     "text": [
      "3\n"
     ]
    }
   ],
   "source": [
    "def foo(y):\n",
    "    y = 4\n",
    "    \n",
    "x = 3 \n",
    "foo(x)\n",
    "\n",
    "print(x)"
   ]
  },
  {
   "cell_type": "markdown",
   "metadata": {},
   "source": [
    "Here we create an int 3, and a label x pointing to that object. Then we pass it to foo, where the label y in namespace foo points to same int object 3. Then that label is reassigned to a new int object 4 which only exists in the foo namespace. Then the label y and object int 4 go out of scope and are destroyed. x is unchanged. However, if the type passed as an argument is immutable, it can be modified without reassignment."
   ]
  },
  {
   "cell_type": "code",
   "execution_count": 17,
   "metadata": {
    "collapsed": false,
    "scrolled": true
   },
   "outputs": [
    {
     "name": "stdout",
     "output_type": "stream",
     "text": [
      "[1, 2, 3, 4]\n"
     ]
    }
   ],
   "source": [
    "def foo(y):\n",
    "    y.append(4)\n",
    "    \n",
    "x = [1, 2, 3] # create list object with label x\n",
    "foo(x) # label y in foo namespace points to same object, and then an int is appended to it. No reassignment!\n",
    "print(x)"
   ]
  },
  {
   "cell_type": "code",
   "execution_count": 18,
   "metadata": {
    "collapsed": true
   },
   "outputs": [],
   "source": [
    "x = 3\n",
    "y = [1, 2, 3]\n",
    "\n",
    "\n",
    "x = x + 1 # rebinding x to new object\n",
    "y.append(4) # mutating list y"
   ]
  },
  {
   "cell_type": "markdown",
   "metadata": {},
   "source": [
    "### Other assignment operations:\n",
    "\n",
    "Certain operations which look like assignments are actually mutations for mutable types. For instance, the list plus equals += is implemented by \\_\\_iadd\\_\\_, and mutates the object in place. This behaves differently from x = x + [1, 2, 3]."
   ]
  },
  {
   "cell_type": "code",
   "execution_count": 23,
   "metadata": {
    "collapsed": false
   },
   "outputs": [
    {
     "name": "stdout",
     "output_type": "stream",
     "text": [
      "x: [1, 2, 3, 4, 5] y: [4, 5]\n"
     ]
    }
   ],
   "source": [
    "x = [1, 2, 3]\n",
    "y = [4, 5]\n",
    "\n",
    "x += y\n",
    "\n",
    "print(\"x:\", x, \"y:\", y)"
   ]
  },
  {
   "cell_type": "code",
   "execution_count": 24,
   "metadata": {
    "collapsed": false
   },
   "outputs": [
    {
     "name": "stdout",
     "output_type": "stream",
     "text": [
      "[1, 2, 3, 4, 4]\n",
      "[1, 2, 3]\n"
     ]
    }
   ],
   "source": [
    "def append_twice_good(x, val):\n",
    "    x += [val, val]\n",
    "    \n",
    "def append_twice_bad(x, val):\n",
    "    x = x + [val, val]\n",
    "    \n",
    "x = [1, 2, 3]\n",
    "\n",
    "append_twice_good(x, 4)\n",
    "\n",
    "print(x)\n",
    "\n",
    "x = [1, 2, 3]\n",
    "\n",
    "append_twice_bad(x, 4)\n",
    "\n",
    "print(x)"
   ]
  },
  {
   "cell_type": "markdown",
   "metadata": {},
   "source": [
    "### More Weirdness"
   ]
  },
  {
   "cell_type": "code",
   "execution_count": 35,
   "metadata": {
    "collapsed": false
   },
   "outputs": [
    {
     "name": "stdout",
     "output_type": "stream",
     "text": [
      "x: [1, 2, 3] y: 4\n",
      "x: [1, 2, 3] y: [1, 4]\n",
      "[2, 3, 3]\n"
     ]
    }
   ],
   "source": [
    "x = [1, 2, 3]\n",
    "\n",
    "y = x[1]\n",
    "\n",
    "y = 4 # int x[1] is immutable, so x is unchanged\n",
    "\n",
    "print(\"x:\", x, \"y:\", y)\n",
    "\n",
    "x = [1, 2, 3]\n",
    "y = x[0:2] # slicing creates a new list, per python standards, so y is unrelated to x\n",
    "y[1] = 4 # this doesn't change x\n",
    "\n",
    "print(\"x:\", x, \"y:\", y)\n",
    "\n",
    "#Slice assignment however does not make a new object\n",
    "\n",
    "x = [1, 2, 3]\n",
    "x[0:2] = [2, 3]\n",
    "\n",
    "print(x)"
   ]
  },
  {
   "cell_type": "markdown",
   "metadata": {},
   "source": [
    "## Safe Download from URL\n",
    "\n",
    "This is a simple program which downloads files from a given URL, and reports download progress in the console. The program also validates the file after it has been downloaded and prevents overwriting. The basic program is derived from code used in the first Google ML assignment."
   ]
  },
  {
   "cell_type": "code",
   "execution_count": 1,
   "metadata": {
    "collapsed": false,
    "scrolled": true
   },
   "outputs": [
    {
     "name": "stdout",
     "output_type": "stream",
     "text": [
      "Attempting to download: notMNIST_small.tar.gz\n",
      "0%....5%....10%....15%....20%....25%....30%....35%....40%....45%....50%....55%....60%....65%....70%....75%....80%....85%....90%....95%....100%\n",
      "Download Complete!\n",
      "Found and verified ./notMNIST_small.tar.gz\n"
     ]
    }
   ],
   "source": [
    "import os\n",
    "import sys\n",
    "from six.moves.urllib.request import urlretrieve\n",
    "\n",
    "url = 'https://commondatastorage.googleapis.com/books1000/' # url to file repository\n",
    "last_percent_reported = None\n",
    "data_root = '.' # local path to desired directory\n",
    "\n",
    "\n",
    "def download_progress_hook(count, blocksize, totalSize):\n",
    "    global last_percent_reported\n",
    "    percent = int(count * blocksize * 100 / totalSize)\n",
    "\n",
    "    if last_percent_reported != percent:\n",
    "        if percent % 5 == 0:\n",
    "            sys.stdout.write('{}%'.format(percent))\n",
    "            sys.stdout.flush()\n",
    "        else:\n",
    "            sys.stdout.write('.')\n",
    "            sys.stdout.flush()\n",
    "\n",
    "        last_percent_reported = percent\n",
    "\n",
    "def maybe_download(filename, expected_bytes, force=False): # force tells the program to overwrite any existing file with the same address\n",
    "    dest_filename = os.path.join(data_root, filename)\n",
    "    if force or not os.path.exists(dest_filename):\n",
    "        print('Attempting to download:', filename)\n",
    "        filename, _ = urlretrieve(url + filename, dest_filename, reporthook=download_progress_hook)\n",
    "        print('\\nDownload Complete!')\n",
    "    statinfo = os.stat(dest_filename)\n",
    "    if statinfo.st_size == expected_bytes:\n",
    "        print('Found and verified', dest_filename)\n",
    "    else:\n",
    "        raise Exception(\n",
    "            'Failed to verify ' + dest_filename + '. Can you get to it with a browser?')\n",
    "    return dest_filename\n",
    "\n",
    "\n",
    "#train_filename = maybe_download('notMNIST_large.tar.gz', 247336696)\n",
    "test_filename = maybe_download('notMNIST_small.tar.gz', 8458043)\n"
   ]
  },
  {
   "cell_type": "markdown",
   "metadata": {},
   "source": [
    "## Machine Learning"
   ]
  },
  {
   "cell_type": "markdown",
   "metadata": {},
   "source": [
    "### MNIST Dataset\n",
    "\n",
    "The following programs are written to identify numbers and letters from the [MNIST](http://yann.lecun.com/exdb/mnist/) and [notMNIST](http://yaroslavvb.blogspot.com/2011/09/notmnist-dataset.html) datasets, using a variety of machine learning techniques. Those files can be downloaded using the previous program."
   ]
  },
  {
   "cell_type": "markdown",
   "metadata": {},
   "source": [
    "### K-NN Method\n",
    "\n",
    "This program uses a simple pseudo K-NN method to identify images from the modified MNIST dataset (available from [kaggle](https://www.kaggle.com/c/digit-recognizer)). The program imports and sorts the images, and then averages the classes of all images in the training set within a certain Euclidean distance dist)."
   ]
  },
  {
   "cell_type": "code",
   "execution_count": 3,
   "metadata": {
    "collapsed": false
   },
   "outputs": [
    {
     "ename": "OSError",
     "evalue": "train.csv not found.",
     "output_type": "error",
     "traceback": [
      "\u001b[0;31m---------------------------------------------------------------------------\u001b[0m",
      "\u001b[0;31mOSError\u001b[0m                                   Traceback (most recent call last)",
      "\u001b[0;32m<ipython-input-3-07dca14dc687>\u001b[0m in \u001b[0;36m<module>\u001b[0;34m()\u001b[0m\n\u001b[1;32m      1\u001b[0m \u001b[0;32mimport\u001b[0m \u001b[0mnumpy\u001b[0m \u001b[0;32mas\u001b[0m \u001b[0mnp\u001b[0m\u001b[0;34m\u001b[0m\u001b[0m\n\u001b[1;32m      2\u001b[0m \u001b[0;34m\u001b[0m\u001b[0m\n\u001b[0;32m----> 3\u001b[0;31m \u001b[0mcsv\u001b[0m \u001b[0;34m=\u001b[0m \u001b[0mnp\u001b[0m\u001b[0;34m.\u001b[0m\u001b[0mgenfromtxt\u001b[0m\u001b[0;34m(\u001b[0m\u001b[0;34m'train.csv'\u001b[0m\u001b[0;34m,\u001b[0m \u001b[0mdelimiter\u001b[0m\u001b[0;34m=\u001b[0m\u001b[0;34m\",\"\u001b[0m\u001b[0;34m,\u001b[0m \u001b[0mdtype\u001b[0m\u001b[0;34m=\u001b[0m\u001b[0mint\u001b[0m\u001b[0;34m)\u001b[0m\u001b[0;34m\u001b[0m\u001b[0m\n\u001b[0m\u001b[1;32m      4\u001b[0m \u001b[0mtest\u001b[0m \u001b[0;34m=\u001b[0m \u001b[0mnp\u001b[0m\u001b[0;34m.\u001b[0m\u001b[0mgenfromtxt\u001b[0m\u001b[0;34m(\u001b[0m\u001b[0;34m'test.csv'\u001b[0m\u001b[0;34m,\u001b[0m \u001b[0mdelimiter\u001b[0m\u001b[0;34m=\u001b[0m\u001b[0;34m\",\"\u001b[0m\u001b[0;34m,\u001b[0m \u001b[0mdtype\u001b[0m\u001b[0;34m=\u001b[0m\u001b[0mint\u001b[0m\u001b[0;34m)\u001b[0m\u001b[0;34m[\u001b[0m\u001b[0;36m1\u001b[0m\u001b[0;34m:\u001b[0m\u001b[0;34m,\u001b[0m\u001b[0;34m:\u001b[0m\u001b[0;34m]\u001b[0m\u001b[0;34m\u001b[0m\u001b[0m\n\u001b[1;32m      5\u001b[0m \u001b[0;34m\u001b[0m\u001b[0m\n",
      "\u001b[0;32m/Users/JAustin/anaconda/lib/python3.5/site-packages/numpy/lib/npyio.py\u001b[0m in \u001b[0;36mgenfromtxt\u001b[0;34m(fname, dtype, comments, delimiter, skip_header, skip_footer, converters, missing_values, filling_values, usecols, names, excludelist, deletechars, replace_space, autostrip, case_sensitive, defaultfmt, unpack, usemask, loose, invalid_raise, max_rows)\u001b[0m\n\u001b[1;32m   1451\u001b[0m                 \u001b[0mfhd\u001b[0m \u001b[0;34m=\u001b[0m \u001b[0miter\u001b[0m\u001b[0;34m(\u001b[0m\u001b[0mnp\u001b[0m\u001b[0;34m.\u001b[0m\u001b[0mlib\u001b[0m\u001b[0;34m.\u001b[0m\u001b[0m_datasource\u001b[0m\u001b[0;34m.\u001b[0m\u001b[0mopen\u001b[0m\u001b[0;34m(\u001b[0m\u001b[0mfname\u001b[0m\u001b[0;34m,\u001b[0m \u001b[0;34m'rbU'\u001b[0m\u001b[0;34m)\u001b[0m\u001b[0;34m)\u001b[0m\u001b[0;34m\u001b[0m\u001b[0m\n\u001b[1;32m   1452\u001b[0m             \u001b[0;32melse\u001b[0m\u001b[0;34m:\u001b[0m\u001b[0;34m\u001b[0m\u001b[0m\n\u001b[0;32m-> 1453\u001b[0;31m                 \u001b[0mfhd\u001b[0m \u001b[0;34m=\u001b[0m \u001b[0miter\u001b[0m\u001b[0;34m(\u001b[0m\u001b[0mnp\u001b[0m\u001b[0;34m.\u001b[0m\u001b[0mlib\u001b[0m\u001b[0;34m.\u001b[0m\u001b[0m_datasource\u001b[0m\u001b[0;34m.\u001b[0m\u001b[0mopen\u001b[0m\u001b[0;34m(\u001b[0m\u001b[0mfname\u001b[0m\u001b[0;34m,\u001b[0m \u001b[0;34m'rb'\u001b[0m\u001b[0;34m)\u001b[0m\u001b[0;34m)\u001b[0m\u001b[0;34m\u001b[0m\u001b[0m\n\u001b[0m\u001b[1;32m   1454\u001b[0m             \u001b[0mown_fhd\u001b[0m \u001b[0;34m=\u001b[0m \u001b[0;32mTrue\u001b[0m\u001b[0;34m\u001b[0m\u001b[0m\n\u001b[1;32m   1455\u001b[0m         \u001b[0;32melse\u001b[0m\u001b[0;34m:\u001b[0m\u001b[0;34m\u001b[0m\u001b[0m\n",
      "\u001b[0;32m/Users/JAustin/anaconda/lib/python3.5/site-packages/numpy/lib/_datasource.py\u001b[0m in \u001b[0;36mopen\u001b[0;34m(path, mode, destpath)\u001b[0m\n\u001b[1;32m    149\u001b[0m \u001b[0;34m\u001b[0m\u001b[0m\n\u001b[1;32m    150\u001b[0m     \u001b[0mds\u001b[0m \u001b[0;34m=\u001b[0m \u001b[0mDataSource\u001b[0m\u001b[0;34m(\u001b[0m\u001b[0mdestpath\u001b[0m\u001b[0;34m)\u001b[0m\u001b[0;34m\u001b[0m\u001b[0m\n\u001b[0;32m--> 151\u001b[0;31m     \u001b[0;32mreturn\u001b[0m \u001b[0mds\u001b[0m\u001b[0;34m.\u001b[0m\u001b[0mopen\u001b[0m\u001b[0;34m(\u001b[0m\u001b[0mpath\u001b[0m\u001b[0;34m,\u001b[0m \u001b[0mmode\u001b[0m\u001b[0;34m)\u001b[0m\u001b[0;34m\u001b[0m\u001b[0m\n\u001b[0m\u001b[1;32m    152\u001b[0m \u001b[0;34m\u001b[0m\u001b[0m\n\u001b[1;32m    153\u001b[0m \u001b[0;34m\u001b[0m\u001b[0m\n",
      "\u001b[0;32m/Users/JAustin/anaconda/lib/python3.5/site-packages/numpy/lib/_datasource.py\u001b[0m in \u001b[0;36mopen\u001b[0;34m(self, path, mode)\u001b[0m\n\u001b[1;32m    499\u001b[0m             \u001b[0;32mreturn\u001b[0m \u001b[0m_file_openers\u001b[0m\u001b[0;34m[\u001b[0m\u001b[0mext\u001b[0m\u001b[0;34m]\u001b[0m\u001b[0;34m(\u001b[0m\u001b[0mfound\u001b[0m\u001b[0;34m,\u001b[0m \u001b[0mmode\u001b[0m\u001b[0;34m=\u001b[0m\u001b[0mmode\u001b[0m\u001b[0;34m)\u001b[0m\u001b[0;34m\u001b[0m\u001b[0m\n\u001b[1;32m    500\u001b[0m         \u001b[0;32melse\u001b[0m\u001b[0;34m:\u001b[0m\u001b[0;34m\u001b[0m\u001b[0m\n\u001b[0;32m--> 501\u001b[0;31m             \u001b[0;32mraise\u001b[0m \u001b[0mIOError\u001b[0m\u001b[0;34m(\u001b[0m\u001b[0;34m\"%s not found.\"\u001b[0m \u001b[0;34m%\u001b[0m \u001b[0mpath\u001b[0m\u001b[0;34m)\u001b[0m\u001b[0;34m\u001b[0m\u001b[0m\n\u001b[0m\u001b[1;32m    502\u001b[0m \u001b[0;34m\u001b[0m\u001b[0m\n\u001b[1;32m    503\u001b[0m \u001b[0;34m\u001b[0m\u001b[0m\n",
      "\u001b[0;31mOSError\u001b[0m: train.csv not found."
     ]
    }
   ],
   "source": [
    "import numpy as np\n",
    "\n",
    "csv = np.genfromtxt('train.csv', delimiter=\",\", dtype=int)\n",
    "test = np.genfromtxt('test.csv', delimiter=\",\", dtype=int)[1:,:]\n",
    "\n",
    "print(\"The files have finished importing!\")\n",
    "\n",
    "index=csv[1:,0]\n",
    "\n",
    "solution_arr=np.zeros((len(test),2))\n",
    "dist=1600\n",
    "matr=csv[1:,1:]\n",
    "\n",
    "for i in range(0,len(test)):\n",
    "    k=0\n",
    "    x=test[i]\n",
    "    count=np.zeros(10)\n",
    "    for j in range(0,len(matr)):\n",
    "        if np.linalg.norm(matr[j]-x)<dist:\n",
    "            k+=1\n",
    "            for m in range(0,10):\n",
    "                if index[j] == m:\n",
    "                    count[m]+=1\n",
    "    prob=count/k\n",
    "    \n",
    "    solution_arr[i,0]=i\n",
    "    solution_arr[i,1]=np.argmax(prob) #max value\n",
    "    \n",
    "    if i % 500 == 0:\n",
    "        print('{}/{} images have been processed.'.format(i, len(test)))\n",
    "    \n",
    "np.savetxt(\"results.csv\", solution_arr, fmt='%i', delimiter=\",\")"
   ]
  },
  {
   "cell_type": "markdown",
   "metadata": {},
   "source": [
    "This program could be improved by optimising the dist value to avoid over or under fitting, and by actually choosing the k closest neighbors."
   ]
  },
  {
   "cell_type": "markdown",
   "metadata": {},
   "source": [
    "### Off-the-shelf Logistic Regression Model on notMNIST\n",
    "\n",
    "This program applies the off-the-shelf sklearn logistic regression model to the notMNIST dataset, producing relatively efficient but inaccurate results. The implementation is very simple, using the database saved by the 1_notmnist notebook."
   ]
  },
  {
   "cell_type": "code",
   "execution_count": 6,
   "metadata": {
    "collapsed": true
   },
   "outputs": [],
   "source": [
    "from sklearn import linear_model\n",
    "import string\n",
    "import numpy as np\n",
    "\n",
    "dataset=np.load('notMNIST.pickle')\n",
    "data_length = 5000\n",
    "train_dataset=dataset['train_dataset']\n",
    "train_labels=dataset['train_labels']\n",
    "train_2d=train_dataset.reshape(len(train_dataset),784)\n",
    "valid_dataset=dataset['valid_dataset']\n",
    "valid_2d=valid_dataset.reshape(len(valid_dataset),784)\n",
    "valid_labels=dataset['valid_labels']"
   ]
  },
  {
   "cell_type": "code",
   "execution_count": 7,
   "metadata": {
    "collapsed": true
   },
   "outputs": [],
   "source": [
    "model = linear_model.LogisticRegression()\n",
    "classifier=model.fit(train_2d[0:data_length],train_labels[0:data_length])"
   ]
  },
  {
   "cell_type": "code",
   "execution_count": 29,
   "metadata": {
    "collapsed": false,
    "scrolled": false
   },
   "outputs": [
    {
     "name": "stdout",
     "output_type": "stream",
     "text": [
      "90.0 percent of the images were correctly predicted!\n",
      "The predicted value for this image is: E, and the actual value is B. \n",
      "The predicted value for this image is: J, and the actual value is J. \n",
      "The predicted value for this image is: D, and the actual value is D. \n",
      "The predicted value for this image is: I, and the actual value is I. \n",
      "The predicted value for this image is: J, and the actual value is J. \n",
      "The predicted value for this image is: D, and the actual value is D. \n",
      "The predicted value for this image is: J, and the actual value is J. \n",
      "The predicted value for this image is: H, and the actual value is H. \n",
      "The predicted value for this image is: A, and the actual value is A. \n",
      "The predicted value for this image is: H, and the actual value is H. \n"
     ]
    }
   ],
   "source": [
    "count = 10;\n",
    "prediction = classifier.predict(valid_2d[0:count,:])\n",
    "actual = valid_labels[0:count]\n",
    "correct = np.sum(prediction == actual)\n",
    "percent = correct/count*100\n",
    "print(\"{} percent of the images were correctly predicted!\".format(percent))\n",
    "\n",
    "#for i in range(count):\n",
    "#    print(\"The predicted value for this image is: {}, and the actual value is {}. \".format(string.ascii_uppercase[prediction[i]],string.ascii_uppercase[actual[i]]))"
   ]
  },
  {
   "cell_type": "markdown",
   "metadata": {},
   "source": [
    "Now we can display the relevant images for review."
   ]
  },
  {
   "cell_type": "code",
   "execution_count": 33,
   "metadata": {
    "collapsed": false,
    "scrolled": false
   },
   "outputs": [
    {
     "data": {
      "image/png": "[encoded data removed]",
      "text/plain": [
       "<matplotlib.figure.Figure at 0x1201a9278>"
      ]
     },
     "metadata": {},
     "output_type": "display_data"
    }
   ],
   "source": [
    "import matplotlib.pyplot as plt\n",
    "import numpy as np\n",
    "\n",
    "for i in range(1): # or range(count)\n",
    "    plt.imshow(valid_dataset[i],'Greys_r')\n",
    "    plt.show()"
   ]
  },
  {
   "cell_type": "markdown",
   "metadata": {},
   "source": [
    "### Convolution Networks"
   ]
  },
  {
   "cell_type": "markdown",
   "metadata": {},
   "source": [
    "Much of the following is inspired by the [Karpathy notes](http://cs231n.github.io/convolutional-networks/) from the Stanford CS231n class."
   ]
  },
  {
   "cell_type": "markdown",
   "metadata": {},
   "source": [
    "Convolution networks are designed to exploit the strong positional invariance properties of images to perform feature recognition for even high-resolution photographs. These layers are much smaller than fully connected layers, and can even downsample the images while extracting the relevant features. \n",
    "\n",
    "The basic premise is as follows, for the example of a 28x28x3 image and a 5x5x8 (x3) shared convolution layer with stride 2.\n",
    "\n",
    "1. A region of the image of size 5x5x3 is multiplied elementwise by each of eight 5x5x3 layers in the filter, producing a 5x5x3x8 output array.\n",
    "\n",
    "2. Each 5x5x3 layer is summed to a single element, and a bias is added.\n",
    "\n",
    "3. This is repeated over the entire image, with stride 2, resulting in an image of size 14x14x8.\n",
    "\n",
    "4. A loss function is backpropogated through the network."
   ]
  }
 ],
 "metadata": {
  "anaconda-cloud": {},
  "kernelspec": {
   "display_name": "Python [conda root]",
   "language": "python",
   "name": "conda-root-py"
  },
  "language_info": {
   "codemirror_mode": {
    "name": "ipython",
    "version": 3
   },
   "file_extension": ".py",
   "mimetype": "text/x-python",
   "name": "python",
   "nbconvert_exporter": "python",
   "pygments_lexer": "ipython3",
   "version": "3.5.2"
  }
 },
 "nbformat": 4,
 "nbformat_minor": 1
}
