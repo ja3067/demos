{
 "cells": [
  {
   "cell_type": "markdown",
   "metadata": {},
   "source": [
    "# Python Notebook\n",
    "\n",
    "Various programs and notes for future reference, many from the Google machine learning course"
   ]
  },
  {
   "cell_type": "markdown",
   "metadata": {
    "collapsed": true
   },
   "source": [
    "## Classes:"
   ]
  },
  {
   "cell_type": "markdown",
   "metadata": {},
   "source": [
    "### General Advice:\n",
    "\n",
    "\n",
    "1. Only define truly local/instance variables inside \\__init\\__. Otherwise they can be class objects. \\__init\\__ is not a constructor, it’s an initializer.\n",
    "\n",
    "2. Don't overuse classes. A class should not exist if it only has one public method."
   ]
  },
  {
   "cell_type": "markdown",
   "metadata": {},
   "source": [
    "@classmethod gives more options for controlling constructor behavior. In C++, we are able to overload the constructor, so we can initialize a class with a variety of different types of arguments. In Python, we can declare a method a classmethod, which can be used to instantiate a new intance of the class. For example, if we want our Date class to accept a data in the format 'dd-mm-yyyy' as a string, we can define a class method which performs the conversion."
   ]
  },
  {
   "cell_type": "code",
   "execution_count": 43,
   "metadata": {
    "collapsed": false
   },
   "outputs": [
    {
     "name": "stdout",
     "output_type": "stream",
     "text": [
      "Day: 11, Month: 9, Year: 2012\n"
     ]
    }
   ],
   "source": [
    "class Date(object):\n",
    "\n",
    "    def __init__(self, day=0, month=0, year=0):\n",
    "        self.day = day\n",
    "        self.month = month\n",
    "        self.year = year\n",
    "        \n",
    "    @classmethod\n",
    "    def from_string(cls, date_as_string):\n",
    "        day, month, year = map(int, date_as_string.split('-'))\n",
    "        date1 = cls(day, month, year)\n",
    "        return date1\n",
    "\n",
    "date = Date.from_string('11-09-2012')\n",
    "\n",
    "print('Day: %d, Month: %d, Year: %d' % (date.day, date.month, date.year))"
   ]
  },
  {
   "cell_type": "markdown",
   "metadata": {},
   "source": [
    "The Property method can be used to allow exposed variables to be accessed and modified safely without forcing the user to write or call explicit getter and setter methods."
   ]
  },
  {
   "cell_type": "code",
   "execution_count": 15,
   "metadata": {
    "collapsed": true
   },
   "outputs": [],
   "source": [
    "class Celsius:\n",
    "    def __init__(self, temperature): # our class takes one argument, but we want to make sure it doesn't go below abs zero.\n",
    "        self.temperature = temperature\n",
    "\n",
    "    def to_fahrenheit(self): # class method (unit conversion)\n",
    "        return (self.temperature * 1.8) + 32\n",
    "\n",
    "    def get_temperature(self): # getter method, allowing the user to access the local variable through a method.\n",
    "        print(\"Getting value\")\n",
    "        return self._temperature\n",
    "\n",
    "    def set_temperature(self, value): # setter method which will raise a value error if the temperature is below absolute zero.\n",
    "        if value < -273:\n",
    "            raise ValueError(\"Temperature below -273 is not possible\")\n",
    "        print(\"Setting value\")\n",
    "        self._temperature = value\n",
    "\n",
    "    temperature = property(get_temperature,set_temperature) # the property function makes the first argument a getter, the second a setter, and the third a deleter."
   ]
  },
  {
   "cell_type": "code",
   "execution_count": null,
   "metadata": {
    "collapsed": true
   },
   "outputs": [],
   "source": [
    "c = Celsius(20) # initialize class\n",
    "c.temperature # retrieve class variable, which is intercepted by property and calls getter instead\n",
    "c.temperature = 30 # change class variable, but call setter instead\n",
    "c.temperature = -300 # raises error because it is below absolute zero."
   ]
  },
  {
   "cell_type": "markdown",
   "metadata": {},
   "source": [
    "This can also be implemented more explicitly/readably using decorators, for example:"
   ]
  },
  {
   "cell_type": "code",
   "execution_count": 44,
   "metadata": {
    "collapsed": true
   },
   "outputs": [],
   "source": [
    "class Celsius:\n",
    "    def __init__(self, temperature): # our class takes one argument, but we want to make sure it doesn't go below abs zero.\n",
    "        self.temperature = temperature\n",
    "\n",
    "    def to_fahrenheit(self): # class method (unit conversion)\n",
    "        return (self.temperature * 1.8) + 32\n",
    "\n",
    "    @property\n",
    "    def temperature(self): # getter method, allowing the user to access the local variable through a method.\n",
    "        print(\"Getting value\")\n",
    "        return self._temperature\n",
    "    \n",
    "    @temperature.setter\n",
    "    def temperature(self, value): # setter method which will raise a value error if the temperature is below absolute zero.\n",
    "        if value < -273:\n",
    "            raise ValueError(\"Temperature below -273 is not possible\")\n",
    "        print(\"Setting value\")\n",
    "        self._temperature = value"
   ]
  },
  {
   "cell_type": "code",
   "execution_count": 46,
   "metadata": {
    "collapsed": false
   },
   "outputs": [
    {
     "name": "stdout",
     "output_type": "stream",
     "text": [
      "Setting value\n",
      "Getting value\n",
      "Setting value\n"
     ]
    },
    {
     "ename": "ValueError",
     "evalue": "Temperature below -273 is not possible",
     "output_type": "error",
     "traceback": [
      "\u001b[0;31m---------------------------------------------------------------------------\u001b[0m",
      "\u001b[0;31mValueError\u001b[0m                                Traceback (most recent call last)",
      "\u001b[0;32m<ipython-input-46-09e7c4bd05a0>\u001b[0m in \u001b[0;36m<module>\u001b[0;34m()\u001b[0m\n\u001b[1;32m      2\u001b[0m \u001b[0mc\u001b[0m\u001b[0;34m.\u001b[0m\u001b[0mtemperature\u001b[0m \u001b[0;31m# retrieve class variable, which is intercepted by property and calls getter instead\u001b[0m\u001b[0;34m\u001b[0m\u001b[0m\n\u001b[1;32m      3\u001b[0m \u001b[0mc\u001b[0m\u001b[0;34m.\u001b[0m\u001b[0mtemperature\u001b[0m \u001b[0;34m=\u001b[0m \u001b[0;36m30\u001b[0m \u001b[0;31m# change class variable, but call setter instead\u001b[0m\u001b[0;34m\u001b[0m\u001b[0m\n\u001b[0;32m----> 4\u001b[0;31m \u001b[0mc\u001b[0m\u001b[0;34m.\u001b[0m\u001b[0mtemperature\u001b[0m \u001b[0;34m=\u001b[0m \u001b[0;34m-\u001b[0m\u001b[0;36m300\u001b[0m \u001b[0;31m# raises error because it is below absolute zero.\u001b[0m\u001b[0;34m\u001b[0m\u001b[0m\n\u001b[0m",
      "\u001b[0;32m<ipython-input-44-0b44600bef56>\u001b[0m in \u001b[0;36mtemperature\u001b[0;34m(self, value)\u001b[0m\n\u001b[1;32m     14\u001b[0m     \u001b[0;32mdef\u001b[0m \u001b[0mtemperature\u001b[0m\u001b[0;34m(\u001b[0m\u001b[0mself\u001b[0m\u001b[0;34m,\u001b[0m \u001b[0mvalue\u001b[0m\u001b[0;34m)\u001b[0m\u001b[0;34m:\u001b[0m \u001b[0;31m# setter method which will raise a value error if the temperature is below absolute zero.\u001b[0m\u001b[0;34m\u001b[0m\u001b[0m\n\u001b[1;32m     15\u001b[0m         \u001b[0;32mif\u001b[0m \u001b[0mvalue\u001b[0m \u001b[0;34m<\u001b[0m \u001b[0;34m-\u001b[0m\u001b[0;36m273\u001b[0m\u001b[0;34m:\u001b[0m\u001b[0;34m\u001b[0m\u001b[0m\n\u001b[0;32m---> 16\u001b[0;31m             \u001b[0;32mraise\u001b[0m \u001b[0mValueError\u001b[0m\u001b[0;34m(\u001b[0m\u001b[0;34m\"Temperature below -273 is not possible\"\u001b[0m\u001b[0;34m)\u001b[0m\u001b[0;34m\u001b[0m\u001b[0m\n\u001b[0m\u001b[1;32m     17\u001b[0m         \u001b[0mprint\u001b[0m\u001b[0;34m(\u001b[0m\u001b[0;34m\"Setting value\"\u001b[0m\u001b[0;34m)\u001b[0m\u001b[0;34m\u001b[0m\u001b[0m\n\u001b[1;32m     18\u001b[0m         \u001b[0mself\u001b[0m\u001b[0;34m.\u001b[0m\u001b[0m_temperature\u001b[0m \u001b[0;34m=\u001b[0m \u001b[0mvalue\u001b[0m\u001b[0;34m\u001b[0m\u001b[0m\n",
      "\u001b[0;31mValueError\u001b[0m: Temperature below -273 is not possible"
     ]
    }
   ],
   "source": [
    "c = Celsius(20) # initialize class\n",
    "c.temperature # retrieve class variable, which is intercepted by property and calls getter instead\n",
    "c.temperature = 30 # change class variable, but call setter instead\n",
    "c.temperature = -300 # raises error because it is below absolute zero."
   ]
  },
  {
   "cell_type": "markdown",
   "metadata": {},
   "source": [
    "### Operator Overloading"
   ]
  },
  {
   "cell_type": "markdown",
   "metadata": {},
   "source": [
    "Like C++, Python allows classes to control their own behavior as operands to the build in operators like +, -, *, /, +=, print( ), int( ), etc. These are controlled using class methods like \\__str\\__, \\__add\\__, and \\__int\\__. Here is some example usage."
   ]
  },
  {
   "cell_type": "code",
   "execution_count": 29,
   "metadata": {
    "collapsed": false
   },
   "outputs": [],
   "source": [
    "class Book:\n",
    "    def __init__(self, name, serial, cost):\n",
    "        self.name = name\n",
    "        self.serial = serial\n",
    "        self.cost = cost\n",
    "\n",
    "    def __eq__(self, other):\n",
    "        return self.serial == other\n",
    "\n",
    "    def __ne__(self, other):\n",
    "        return self.serial != other\n",
    "\n",
    "    def __str__(self):\n",
    "        return \"The name of this book is {}\".format(self.name) # str(self.main_var)\n",
    "\n",
    "    def __add__(self, other): # adding two instances of this class\n",
    "        return self.cost + other\n",
    "\n",
    "    def __radd__(self, other): # adding obj to some other class/built-in type (reverse add)\n",
    "        return self.cost + other\n",
    "\n",
    "    def __gt__(self, other):\n",
    "        if isinstance(other, Book):\n",
    "            return self.name > other.name # other.name is not strictly necessary\n",
    "        else:\n",
    "            raise ValueError(\"Invalid Operand\")\n",
    "\n",
    "    def __lt__(self, other):\n",
    "        if isinstance(other, Book):\n",
    "            return self.name < other.name \n",
    "        else:\n",
    "            raise ValueError(\"Invalid Operand\")\n",
    "\n",
    "    def __ge__(self, other):\n",
    "        if isinstance(other, Book):\n",
    "            return self.name >= other.name\n",
    "        else:\n",
    "            raise ValueError(\"Invalid Operand\")\n",
    "\n",
    "    def __le__(self, other):\n",
    "        if isinstance(other, Book):\n",
    "            return self.name <= other.name\n",
    "        else:\n",
    "            raise ValueError(\"Invalid Operand\")\n",
    "\n",
    "    def __int__(self):\n",
    "        return int(self.cost)\n",
    "\n",
    "    def __iadd__(self, other):\n",
    "        if isinstance(other, (int, float)):\n",
    "            self.cost += other\n",
    "            return self\n",
    "        else:\n",
    "            raise ValueError(\"Invalid Operand\")\n",
    "\n",
    "book1 = Book(\"The Lord of the Rings\", \"A93265GD2\", 23.54) # creating objects\n",
    "book2 = Book(\"A Game of Thrones\", \"F3254GS20\", 14.65)\n",
    "book3 = Book(\"Harry Potter\", \"A352GFD2A\", 16.54)"
   ]
  },
  {
   "cell_type": "markdown",
   "metadata": {},
   "source": [
    "Now the following statements are valid. Otherwise they would all throw errors since operations on these classes is undefined."
   ]
  },
  {
   "cell_type": "code",
   "execution_count": 32,
   "metadata": {
    "collapsed": false
   },
   "outputs": [
    {
     "name": "stdout",
     "output_type": "stream",
     "text": [
      "The name of this book is The Lord of the Rings\n",
      "44.19\n",
      "32.54\n",
      "32.54\n",
      "False\n",
      "False\n",
      "32.54\n"
     ]
    }
   ],
   "source": [
    "print(book1) # these are now valid operations\n",
    "print(book1 + book2)\n",
    "\n",
    "print(book1 + 3) # reverse addition (Python knows addition is commutative)\n",
    "print(3 + book1)\n",
    "\n",
    "print(book1 == book3)\n",
    "print(book1 < book3)\n",
    "\n",
    "book1 += 3\n",
    "\n",
    "print(book1.cost)"
   ]
  },
  {
   "cell_type": "markdown",
   "metadata": {},
   "source": [
    "## Loops:\n",
    "\n",
    "Much of this code is taken from Raymond Hettinger's lectures, in particular [this transcribed talk](https://gist.github.com/JeffPaine/6213790)."
   ]
  },
  {
   "cell_type": "markdown",
   "metadata": {},
   "source": [
    "### Enumerate"
   ]
  },
  {
   "cell_type": "markdown",
   "metadata": {},
   "source": [
    "A python program should try to invoke indices as rarely as possible. Python is object oriented/vectorized, not iterative. For example, it is possible to access the indices and objects in a list without iterating over the indices, using enumerate( )."
   ]
  },
  {
   "cell_type": "code",
   "execution_count": 2,
   "metadata": {
    "collapsed": false,
    "scrolled": false
   },
   "outputs": [
    {
     "name": "stdout",
     "output_type": "stream",
     "text": [
      "0 ---> green\n",
      "1 ---> red\n",
      "2 ---> blue\n"
     ]
    }
   ],
   "source": [
    "colors = ['green', 'red', 'blue']\n",
    "\n",
    "for i, color in enumerate(colors):\n",
    "    print(i, '--->', color)"
   ]
  },
  {
   "cell_type": "markdown",
   "metadata": {},
   "source": [
    "### Reversed"
   ]
  },
  {
   "cell_type": "markdown",
   "metadata": {},
   "source": [
    "It is possible to loop backwards over a list in Python using the reversed( ) command instead of the usual C style iterators."
   ]
  },
  {
   "cell_type": "code",
   "execution_count": 4,
   "metadata": {
    "collapsed": false,
    "scrolled": true
   },
   "outputs": [
    {
     "name": "stdout",
     "output_type": "stream",
     "text": [
      "blue\n",
      "red\n",
      "green\n"
     ]
    }
   ],
   "source": [
    "colors = ['green', 'red', 'blue']\n",
    "\n",
    "for color in reversed(colors):\n",
    "    print(color)"
   ]
  },
  {
   "cell_type": "markdown",
   "metadata": {},
   "source": [
    "### Zip"
   ]
  },
  {
   "cell_type": "markdown",
   "metadata": {},
   "source": [
    "In order to iterate over several collections, the zip( ) command can be used. Note that in Python 3, zip( ) is equivalent to izip( ), which is an iterator, and doesn't generate a new, expensive set of tuples."
   ]
  },
  {
   "cell_type": "code",
   "execution_count": null,
   "metadata": {
    "collapsed": true
   },
   "outputs": [],
   "source": [
    "names = ['raymond', 'rachel', 'mathew']\n",
    "colors = ['green', 'red', 'blue', 'yellow']\n",
    "\n",
    "for name, color in zip(names, colors):\n",
    "    print(name, '--->', color)"
   ]
  },
  {
   "cell_type": "markdown",
   "metadata": {},
   "source": [
    "### Else"
   ]
  },
  {
   "cell_type": "markdown",
   "metadata": {},
   "source": [
    "For loops can also be equipped with else clauses instead of flag variables, which will be called if the for loop terminates without a break clause. For example, this is how the find command is implemented."
   ]
  },
  {
   "cell_type": "code",
   "execution_count": 21,
   "metadata": {
    "collapsed": false,
    "scrolled": true
   },
   "outputs": [
    {
     "name": "stdout",
     "output_type": "stream",
     "text": [
      "9 was found at index -1\n",
      "8 was found at index 7\n"
     ]
    }
   ],
   "source": [
    "def find(sequence, target):\n",
    "    for i, value in enumerate(sequence):\n",
    "        if value == target:\n",
    "            break\n",
    "    else:\n",
    "        return -1\n",
    "    return i\n",
    "\n",
    "sequence = [1,2,3,4,5,6,7,8]\n",
    "\n",
    "index = find(sequence, 9)\n",
    "\n",
    "print('%d was found at index %d' % (9, index))\n",
    "\n",
    "index = find(sequence, 8)\n",
    "\n",
    "print('%d was found at index %d' % (8, index))"
   ]
  },
  {
   "cell_type": "markdown",
   "metadata": {},
   "source": [
    "## Dictionaries"
   ]
  },
  {
   "cell_type": "markdown",
   "metadata": {},
   "source": [
    "### Lookup and Hash Tables"
   ]
  },
  {
   "cell_type": "markdown",
   "metadata": {},
   "source": [
    "Dictionaries in Python can be constructed and looped over in a variety of ways. They are useful whenever sorting or accessing values by reference is important. They should never be iterated over, since their only advantage over lists is speed of access. \n",
    "\n",
    "Dictionaries are implemented as hashtables in Python. When an entry is added to the dictionary, the key is hashed, and the (key, value) pair is stored in a collision list indexed by the hashed key. The program then iterates through the collision list until it finds the key in question. Hopefully, hashing is sparse enough that no collisions occur, and the first element is the desired key. In other words, hash tables contain tuples of all hashes and all (key, value) pairs.\n",
    "\n",
    "The following is a pseudocode hash-lookup in Python."
   ]
  },
  {
   "cell_type": "code",
   "execution_count": 24,
   "metadata": {
    "collapsed": false,
    "scrolled": true
   },
   "outputs": [],
   "source": [
    "def lookup(d, key):     \n",
    "    '''dictionary lookup is done in three steps:        \n",
    "        1. A hash value of the key is computed using a hash function.        \n",
    "        2. The hash value addresses a location in d.data which is \n",
    "        supposed to be an array of \"buckets\" or \"collision lists\"           \n",
    "        which contain the (key,value) pairs.        \n",
    "        3. The collision list addressed by the hash value is searched           \n",
    "        sequentially until a pair is found with pair[0] == key. The           \n",
    "        return value of the lookup is then pair[1]. '''     \n",
    "    h = hash(key)                  # step 1     \n",
    "    cl = d.data[h]                 # step 2     \n",
    "    for pair in cl:                # step 3         \n",
    "        if key == pair[0]:             \n",
    "            return pair[1]     \n",
    "        else:         \n",
    "            raise(KeyError, \"Key %s not found.\" % key)"
   ]
  },
  {
   "cell_type": "markdown",
   "metadata": {},
   "source": [
    "### Accessing and Modifying Dictionaries"
   ]
  },
  {
   "cell_type": "markdown",
   "metadata": {},
   "source": [
    "There are a number of ways of accessing python dictionaries."
   ]
  },
  {
   "cell_type": "code",
   "execution_count": 39,
   "metadata": {
    "collapsed": false,
    "scrolled": true
   },
   "outputs": [
    {
     "name": "stdout",
     "output_type": "stream",
     "text": [
      "raymond\n",
      "mathew\n",
      "rachel\n"
     ]
    }
   ],
   "source": [
    "names = ['raymond', 'rachel', 'mathew']\n",
    "colors = ['green', 'red', 'blue', 'yellow']\n",
    "\n",
    "d = dict(zip(names, colors))\n",
    "\n",
    "for k in d: # iterating over dictionary automatically returns keys, not values or tuples.\n",
    "    print(k)\n",
    "    \n",
    "for k in list(d.keys()): # this deletes entries with keys starting with the letter r. when changes are being made to the dict, this is prefarable, because it creates a local copy of the keys\n",
    "    if k.startswith('r'):\n",
    "        del d[k]\n",
    "        \n",
    "d = {k : d[k] for k in d if not k.startswith('r')} # list comprehension for dictionaries"
   ]
  },
  {
   "cell_type": "markdown",
   "metadata": {},
   "source": [
    "Tuples in dictionaries can be accessed directly without lookup using the items() method."
   ]
  },
  {
   "cell_type": "code",
   "execution_count": 41,
   "metadata": {
    "collapsed": false
   },
   "outputs": [
    {
     "name": "stdout",
     "output_type": "stream",
     "text": [
      "mathew ---> blue\n"
     ]
    }
   ],
   "source": [
    "for k, v in d.items():\n",
    "    print(k, '--->', v)"
   ]
  },
  {
   "cell_type": "markdown",
   "metadata": {},
   "source": [
    "### Counting"
   ]
  },
  {
   "cell_type": "markdown",
   "metadata": {},
   "source": [
    "Dictionaries are often used for counting elements in a list. For example, here is a possible implementation."
   ]
  },
  {
   "cell_type": "code",
   "execution_count": 57,
   "metadata": {
    "collapsed": false
   },
   "outputs": [
    {
     "data": {
      "text/plain": [
       "defaultdict(int, {'blue': 1, 'green': 2, 'red': 3})"
      ]
     },
     "execution_count": 57,
     "metadata": {},
     "output_type": "execute_result"
    }
   ],
   "source": [
    "colors = ['red', 'green', 'red', 'blue', 'green', 'red']\n",
    "\n",
    "def basic_count(dictionary): # a good, simple way to count\n",
    "    d = {}\n",
    "    for color in colors:\n",
    "        if color not in d:\n",
    "            d[color] = 0\n",
    "        d[color] += 1\n",
    "    return d\n",
    "\n",
    "def get_count(dictionary): # a slightly more complicated way that looks for color, and initializes it to 0 if not found\n",
    "    d = {}\n",
    "    for color in colors:\n",
    "        d[color] = d.get(color, 0) + 1\n",
    "    return d\n",
    "    \n",
    "from collections import defaultdict\n",
    "\n",
    "def default_count(dictionary): # returns a defaultdict object. defaultdict is an object defined in collections, along with deque, intended to be high-performance, frequently modified data structures.\n",
    "    d = defaultdict(int)\n",
    "    for color in colors:\n",
    "        d[color] += 1\n",
    "    return d\n",
    "\n",
    "default_count(colors)"
   ]
  },
  {
   "cell_type": "markdown",
   "metadata": {},
   "source": [
    "### Grouping"
   ]
  },
  {
   "cell_type": "markdown",
   "metadata": {
    "collapsed": true
   },
   "source": [
    "Dictionaries can also be used to group/sort objects in a list, for instance by first letter or length."
   ]
  },
  {
   "cell_type": "code",
   "execution_count": 20,
   "metadata": {
    "collapsed": false,
    "scrolled": true
   },
   "outputs": [
    {
     "name": "stdout",
     "output_type": "stream",
     "text": [
      "{5: ['roger', 'betty'], 6: ['rachel', 'judith'], 7: ['raymond', 'matthew', 'melissa', 'charlie']}\n",
      "{5: ['roger', 'betty'], 6: ['rachel', 'judith'], 7: ['raymond', 'matthew', 'melissa', 'charlie']}\n",
      "{5: ['roger', 'betty'], 6: ['rachel', 'judith'], 7: ['raymond', 'matthew', 'melissa', 'charlie']}\n"
     ]
    }
   ],
   "source": [
    "names = ['raymond', 'rachel', 'matthew', 'roger',\n",
    "         'betty', 'melissa', 'judith', 'charlie']\n",
    "\n",
    "# In this example, we're grouping by name length\n",
    "\n",
    "def basic_grouping(names): # checks for existence before appending\n",
    "    d = {}\n",
    "    for name in names:\n",
    "        key = len(name)\n",
    "        if key not in d:\n",
    "            d[key] = []\n",
    "        d[key].append(name)\n",
    "    return d\n",
    "    \n",
    "print(basic_grouping(names))\n",
    "\n",
    "def better_grouping(names): # defaults d[key] to an empty list if it doesn't exist\n",
    "    d = {}\n",
    "    for name in names:\n",
    "        key = len(name)\n",
    "        d.setdefault(key, []).append(name)\n",
    "    return d\n",
    "\n",
    "print(better_grouping(names))\n",
    "\n",
    "from collections import defaultdict\n",
    "\n",
    "def best_grouping(names):\n",
    "    d = defaultdict(list)\n",
    "    for name in names:\n",
    "        key = len(name)\n",
    "        d[key].append(name)\n",
    "    return d\n",
    "    \n",
    "print(dict(best_grouping(names)))"
   ]
  },
  {
   "cell_type": "markdown",
   "metadata": {},
   "source": [
    "### dict.get( )\n",
    "\n",
    "The dict.get( ) method retrieves a dictionary entry by key, and specifies a default value if it's false. This is similar to the DefaultDict behavior."
   ]
  },
  {
   "cell_type": "code",
   "execution_count": 8,
   "metadata": {
    "collapsed": false,
    "scrolled": true
   },
   "outputs": [
    {
     "name": "stdout",
     "output_type": "stream",
     "text": [
      "{'green': 0, 'blue': 1, 'orange': 3}\n"
     ]
    }
   ],
   "source": [
    "d = {'green' : 0, 'blue': 1, 'orange': 3}\n",
    "\n",
    "x = d.get('red', None) # tried to retrieve value, and returns None when it fails\n",
    "\n",
    "print(repr(d))"
   ]
  },
  {
   "cell_type": "markdown",
   "metadata": {},
   "source": [
    "## Maps, Lambdas, and List Comprehension\n",
    "\n",
    "There are a number of ways of applying functions to elements of lists. In general, list comprehensions are the preferred method, since they tend to avoid lambda functions."
   ]
  },
  {
   "cell_type": "code",
   "execution_count": 15,
   "metadata": {
    "collapsed": false
   },
   "outputs": [
    {
     "name": "stdout",
     "output_type": "stream",
     "text": [
      "[1, 4, 9, 16] [1, 4, 9, 16]\n"
     ]
    }
   ],
   "source": [
    "nums = [1, 2, 3, 4]\n",
    "\n",
    "squares_a = [x**2 for x in nums] # these do the same thing\n",
    "squares_b = map(lambda x: x**2, nums)  # except this returns an iterable, which needs to be converted to a list for certain uses\n",
    "\n",
    "print(squares_a, list(squares_b))"
   ]
  },
  {
   "cell_type": "markdown",
   "metadata": {},
   "source": [
    "These are both reasonable solutions, but if we need to filter the results, list comprehension is much cleaner."
   ]
  },
  {
   "cell_type": "code",
   "execution_count": 16,
   "metadata": {
    "collapsed": false
   },
   "outputs": [
    {
     "name": "stdout",
     "output_type": "stream",
     "text": [
      "[4, 16, 36, 64] [4, 16, 36, 64]\n"
     ]
    }
   ],
   "source": [
    "nums = [1, 2, 3, 4, 5, 6, 7, 8, 9]\n",
    "\n",
    "even_squares_a = [x**2 for x in nums if x % 2 == 0]\n",
    "even_squares_b = map(lambda x: x**2, filter(lambda x: x % 2 == 0, nums)) # this is ugly\n",
    "\n",
    "print(even_squares_a, list(even_squares_b))"
   ]
  },
  {
   "cell_type": "markdown",
   "metadata": {},
   "source": [
    "You should avoid list comprehensions that become unwieldly. Generally, more than two layers of depth is bad."
   ]
  },
  {
   "cell_type": "code",
   "execution_count": 19,
   "metadata": {
    "collapsed": false,
    "scrolled": true
   },
   "outputs": [
    {
     "name": "stdout",
     "output_type": "stream",
     "text": [
      "[[1, 4, 9], [16, 25, 36], [49, 64, 81]]\n"
     ]
    }
   ],
   "source": [
    "arr = [[1, 2, 3], [4, 5, 6], [7, 8, 9]]\n",
    "\n",
    "flat_square = [[x**2 for x in row] for row in arr] # this is okay, don't do more than this\n",
    "\n",
    "print(flat_square)"
   ]
  },
  {
   "cell_type": "markdown",
   "metadata": {},
   "source": [
    "### Generator Comprehension\n",
    "\n",
    "For large lists, we do not want to store the full list in memory. That's where generator expressions come in. We can slightly modify the list comprehension syntax to create a generator which returns on the subsequent value. Note that, since generators generate the next value when next is called, they are vulnerable to changes in the underlying object they're iterating over."
   ]
  },
  {
   "cell_type": "code",
   "execution_count": 33,
   "metadata": {
    "collapsed": false
   },
   "outputs": [
    {
     "name": "stdout",
     "output_type": "stream",
     "text": [
      "4.0\n",
      "4.0\n",
      "16.0\n",
      "16.0\n"
     ]
    }
   ],
   "source": [
    "import numpy as np\n",
    "\n",
    "arr = 2*np.ones(1000,)\n",
    "\n",
    "squares = (x**2 for x in arr) # generator which doesn't hold everything in memory\n",
    "\n",
    "print(next(squares))\n",
    "print(next(squares))\n",
    "\n",
    "arr[2:4] = [4, 4] # danger of generator expressions, susceptible to changes in the underlying object.\n",
    "\n",
    "print(next(squares))\n",
    "print(next(squares))"
   ]
  },
  {
   "cell_type": "markdown",
   "metadata": {},
   "source": [
    "## Collections"
   ]
  },
  {
   "cell_type": "markdown",
   "metadata": {},
   "source": [
    "The collections module is optimized for high-performance modification. It contains objects like deque and defaultdict, which are faster than lists or dicts if they are being frequently modified."
   ]
  },
  {
   "cell_type": "markdown",
   "metadata": {},
   "source": [
    "### Updating Sequences"
   ]
  },
  {
   "cell_type": "markdown",
   "metadata": {},
   "source": [
    "This is a bad way of storing data that is changed frequently (using a list)."
   ]
  },
  {
   "cell_type": "code",
   "execution_count": 38,
   "metadata": {
    "collapsed": false
   },
   "outputs": [
    {
     "data": {
      "text/plain": [
       "['mark', 'matthew', 'roger', 'betty', 'melissa', 'judith', 'charlie']"
      ]
     },
     "execution_count": 38,
     "metadata": {},
     "output_type": "execute_result"
    }
   ],
   "source": [
    "names = ['raymond', 'rachel', 'matthew', 'roger',\n",
    "         'betty', 'melissa', 'judith', 'charlie']\n",
    "\n",
    "del names[0]\n",
    "# The below are signs you're using the wrong data structure\n",
    "names.pop(0)\n",
    "names.insert(0, 'mark')\n",
    "\n",
    "names"
   ]
  },
  {
   "cell_type": "markdown",
   "metadata": {},
   "source": [
    "A far better way is to use the deque object from collections, with built in methods popleft and appendleft."
   ]
  },
  {
   "cell_type": "code",
   "execution_count": 40,
   "metadata": {
    "collapsed": false
   },
   "outputs": [
    {
     "data": {
      "text/plain": [
       "deque(['mark', 'matthew', 'roger', 'betty', 'melissa', 'judith', 'charlie'])"
      ]
     },
     "execution_count": 40,
     "metadata": {},
     "output_type": "execute_result"
    }
   ],
   "source": [
    "from collections import deque\n",
    "\n",
    "names = deque(['raymond', 'rachel', 'matthew', 'roger',\n",
    "               'betty', 'melissa', 'judith', 'charlie'])\n",
    "\n",
    "# More efficient with deque\n",
    "del names[0]\n",
    "names.popleft()\n",
    "names.appendleft('mark')\n",
    "\n",
    "names"
   ]
  },
  {
   "cell_type": "markdown",
   "metadata": {},
   "source": [
    "### Named Tuples"
   ]
  },
  {
   "cell_type": "markdown",
   "metadata": {},
   "source": [
    "Python has a built-in class, called namedTuple, a child class of tuple, with the same functionality. This is used for code clarity/readability."
   ]
  },
  {
   "cell_type": "code",
   "execution_count": 29,
   "metadata": {
    "collapsed": false
   },
   "outputs": [
    {
     "data": {
      "text/plain": [
       "TestResults(failed=20, attempted=30)"
      ]
     },
     "execution_count": 29,
     "metadata": {},
     "output_type": "execute_result"
    }
   ],
   "source": [
    "from collections import namedtuple\n",
    "TestResults = namedtuple('TestResults', ['failed', 'attempted'])\n",
    "\n",
    "result1 = TestResults(20, 30)\n",
    "\n",
    "result1"
   ]
  },
  {
   "cell_type": "markdown",
   "metadata": {},
   "source": [
    "## Strings"
   ]
  },
  {
   "cell_type": "markdown",
   "metadata": {},
   "source": [
    "### Concatenating Strings"
   ]
  },
  {
   "cell_type": "markdown",
   "metadata": {},
   "source": [
    "A list of strings can be efficiently concatenated using the join command, for example:"
   ]
  },
  {
   "cell_type": "code",
   "execution_count": 31,
   "metadata": {
    "collapsed": false,
    "scrolled": true
   },
   "outputs": [
    {
     "name": "stdout",
     "output_type": "stream",
     "text": [
      "bob, sylvia, robert, haley, anne\n"
     ]
    }
   ],
   "source": [
    "names = ['bob', 'sylvia', 'robert', 'haley', 'anne']\n",
    "print(', '.join(names))"
   ]
  },
  {
   "cell_type": "markdown",
   "metadata": {},
   "source": [
    "### Extracting numbers from strings\n",
    "\n",
    "Consider data information encoded in a string, for instance in the format dd-mm-yyyy, e.g. 23-05-2013. To convert this into a tuple of numbers, I could split the string by '-', and cast each individually as an integer, or I can use a map. Map applies the function, in this case int, to every element in the right-hand list."
   ]
  },
  {
   "cell_type": "code",
   "execution_count": 4,
   "metadata": {
    "collapsed": false
   },
   "outputs": [
    {
     "name": "stdout",
     "output_type": "stream",
     "text": [
      "Day: 25, Month: 3, Year: 2013\n"
     ]
    }
   ],
   "source": [
    "string_date = '25-03-2013'\n",
    "day, month, year = map(int, string_date.split('-'))\n",
    "print(\"Day: %d, Month: %d, Year: %d\" % (day, month, year))"
   ]
  }
 ],
 "metadata": {
  "anaconda-cloud": {},
  "kernelspec": {
   "display_name": "Python [conda root]",
   "language": "python",
   "name": "conda-root-py"
  },
  "language_info": {
   "codemirror_mode": {
    "name": "ipython",
    "version": 3
   },
   "file_extension": ".py",
   "mimetype": "text/x-python",
   "name": "python",
   "nbconvert_exporter": "python",
   "pygments_lexer": "ipython3",
   "version": "3.5.2"
  }
 },
 "nbformat": 4,
 "nbformat_minor": 1
}
